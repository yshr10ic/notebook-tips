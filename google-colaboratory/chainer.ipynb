{
  "nbformat": 4,
  "nbformat_minor": 0,
  "metadata": {
    "colab": {
      "name": "chainer.ipynb",
      "version": "0.3.2",
      "provenance": []
    },
    "kernelspec": {
      "name": "python3",
      "display_name": "Python 3"
    },
    "accelerator": "GPU"
  },
  "cells": [
    {
      "metadata": {
        "id": "hPM_rRZMzhey",
        "colab_type": "text"
      },
      "cell_type": "markdown",
      "source": [
        "# Google ColaboratoryでChainerのチュートリアルを実行してみる\n",
        "\n",
        "今回実行するのは、Chainerのドキュメントにある\n",
        "[MNIST using Trainer](https://docs.chainer.org/en/stable/examples/mnist.html)\n",
        "を実行する。"
      ]
    },
    {
      "metadata": {
        "id": "2ytN4DJKPcOM",
        "colab_type": "code",
        "outputId": "b925bd57-3bf9-4b19-fe19-3ed498b6f25d",
        "colab": {
          "base_uri": "https://localhost:8080/",
          "height": 122
        }
      },
      "cell_type": "code",
      "source": [
        "# Google Driveにログを出力するために、マウントする\n",
        "from google.colab import drive\n",
        "drive.mount('/content/gdrive')"
      ],
      "execution_count": 0,
      "outputs": [
        {
          "output_type": "stream",
          "text": [
            "Go to this URL in a browser: https://accounts.google.com/o/oauth2/auth?client_id=947318989803-6bn6qk8qdgf4n4g3pfee6491hc0brc4i.apps.googleusercontent.com&redirect_uri=urn%3Aietf%3Awg%3Aoauth%3A2.0%3Aoob&scope=email%20https%3A%2F%2Fwww.googleapis.com%2Fauth%2Fdocs.test%20https%3A%2F%2Fwww.googleapis.com%2Fauth%2Fdrive%20https%3A%2F%2Fwww.googleapis.com%2Fauth%2Fdrive.photos.readonly%20https%3A%2F%2Fwww.googleapis.com%2Fauth%2Fpeopleapi.readonly&response_type=code\n",
            "\n",
            "Enter your authorization code:\n",
            "··········\n",
            "Mounted at /content/gdrive\n"
          ],
          "name": "stdout"
        }
      ]
    },
    {
      "metadata": {
        "id": "Z5yx_zuptVoK",
        "colab_type": "code",
        "outputId": "95c03a24-261b-4eb1-f802-865411962fe2",
        "colab": {
          "base_uri": "https://localhost:8080/",
          "height": 238
        }
      },
      "cell_type": "code",
      "source": [
        "# デフォルトでインストールされているchainerの情報を出力する\n",
        "import chainer\n",
        "chainer.print_runtime_info()"
      ],
      "execution_count": 0,
      "outputs": [
        {
          "output_type": "stream",
          "text": [
            "Platform: Linux-4.14.79+-x86_64-with-Ubuntu-18.04-bionic\n",
            "Chainer: 5.0.0\n",
            "NumPy: 1.14.6\n",
            "CuPy:\n",
            "  CuPy Version          : 5.2.0\n",
            "  CUDA Root             : /usr/local/cuda\n",
            "  CUDA Build Version    : 10000\n",
            "  CUDA Driver Version   : 10000\n",
            "  CUDA Runtime Version  : 10000\n",
            "  cuDNN Build Version   : 7301\n",
            "  cuDNN Version         : 7301\n",
            "  NCCL Build Version    : 2307\n",
            "iDeep: 2.0.0.post3\n"
          ],
          "name": "stdout"
        }
      ]
    },
    {
      "metadata": {
        "id": "rStmtHiYtg98",
        "colab_type": "code",
        "colab": {}
      },
      "cell_type": "code",
      "source": [
        "# ライブラリのインポート\n",
        "import numpy as np\n",
        "from chainer import backend\n",
        "from chainer import backends\n",
        "from chainer.backends import cuda\n",
        "from chainer import Function, gradient_check, report, training, utils, Variable\n",
        "from chainer import datasets, iterators, optimizers, serializers\n",
        "from chainer import Link, Chain, ChainList\n",
        "import chainer.functions as F\n",
        "import chainer.links as L\n",
        "from chainer.training import extensions"
      ],
      "execution_count": 0,
      "outputs": []
    },
    {
      "metadata": {
        "id": "SJ1LHhG3vWh7",
        "colab_type": "code",
        "colab": {}
      },
      "cell_type": "code",
      "source": [
        "# データセットの準備\n",
        "from chainer.datasets import mnist\n",
        "\n",
        "train, test = mnist.get_mnist()"
      ],
      "execution_count": 0,
      "outputs": []
    },
    {
      "metadata": {
        "id": "69IsI7cj0Ped",
        "colab_type": "code",
        "colab": {}
      },
      "cell_type": "code",
      "source": [
        "# イテレーションの準備\n",
        "batchsize = 128\n",
        "\n",
        "train_iter = iterators.SerialIterator(train, batchsize)\n",
        "test_iter = iterators.SerialIterator(test, batchsize, False, False)"
      ],
      "execution_count": 0,
      "outputs": []
    },
    {
      "metadata": {
        "id": "Yz00ZgFK0x3X",
        "colab_type": "code",
        "colab": {}
      },
      "cell_type": "code",
      "source": [
        "# モデルの定義\n",
        "class MLP(Chain):\n",
        "\n",
        "    def __init__(self, n_mid_units=100, n_out=10):\n",
        "        super(MLP, self).__init__()\n",
        "        with self.init_scope():\n",
        "            self.l1 = L.Linear(None, n_mid_units)\n",
        "            self.l2 = L.Linear(None, n_mid_units)\n",
        "            self.l3 = L.Linear(None, n_out)\n",
        "\n",
        "    def forward(self, x):\n",
        "        h1 = F.relu(self.l1(x))\n",
        "        h2 = F.relu(self.l2(h1))\n",
        "        return self.l3(h2)\n",
        "\n",
        "gpu_id = 0  # Set to -1 if you use CPU\n",
        "\n",
        "model = MLP()\n",
        "if gpu_id >= 0:\n",
        "    model.to_gpu(gpu_id)"
      ],
      "execution_count": 0,
      "outputs": []
    },
    {
      "metadata": {
        "id": "EBgGXir8064C",
        "colab_type": "code",
        "colab": {}
      },
      "cell_type": "code",
      "source": [
        "# Updaterの準備\n",
        "max_epoch = 10\n",
        "\n",
        "model = L.Classifier(model)\n",
        "\n",
        "optimizer = optimizers.MomentumSGD()\n",
        "optimizer.setup(model)\n",
        "\n",
        "updater = training.updaters.StandardUpdater(train_iter, optimizer, device=gpu_id)"
      ],
      "execution_count": 0,
      "outputs": []
    },
    {
      "metadata": {
        "id": "0TzN_DmL1GHO",
        "colab_type": "code",
        "colab": {}
      },
      "cell_type": "code",
      "source": [
        "# Trainerの準備\n",
        "# logの出力先は、マウントしたGoogle Drive配下とする\n",
        "trainer = training.Trainer(updater, (max_epoch, 'epoch'), out='/content/gdrive/My Drive/Colab Notebooks/logs/mnist_result')"
      ],
      "execution_count": 0,
      "outputs": []
    },
    {
      "metadata": {
        "id": "dHRHqIkE1KdK",
        "colab_type": "code",
        "colab": {}
      },
      "cell_type": "code",
      "source": [
        "# Extensionsの追加\n",
        "trainer.extend(extensions.LogReport())\n",
        "trainer.extend(extensions.snapshot(filename='snapshot_epoch-{.updater.epoch}'))\n",
        "trainer.extend(extensions.snapshot_object(model.predictor, filename='model_epoch-{.updater.epoch}'))\n",
        "trainer.extend(extensions.Evaluator(test_iter, model, device=gpu_id))\n",
        "trainer.extend(extensions.PrintReport(['epoch', 'main/loss', 'main/accuracy', 'validation/main/loss', 'validation/main/accuracy', 'elapsed_time']))\n",
        "trainer.extend(extensions.PlotReport(['main/loss', 'validation/main/loss'], x_key='epoch', file_name='loss.png'))\n",
        "trainer.extend(extensions.PlotReport(['main/accuracy', 'validation/main/accuracy'], x_key='epoch', file_name='accuracy.png'))\n",
        "trainer.extend(extensions.dump_graph('main/loss'))"
      ],
      "execution_count": 0,
      "outputs": []
    },
    {
      "metadata": {
        "id": "5rqb_WQt1TJP",
        "colab_type": "code",
        "outputId": "43d63138-4a06-40b1-de1d-aca27558cc8f",
        "colab": {
          "base_uri": "https://localhost:8080/",
          "height": 204
        }
      },
      "cell_type": "code",
      "source": [
        "# 実行\n",
        "trainer.run()"
      ],
      "execution_count": 0,
      "outputs": [
        {
          "output_type": "stream",
          "text": [
            "epoch       main/loss   main/accuracy  validation/main/loss  validation/main/accuracy  elapsed_time\n",
            "\u001b[J1           0.535992    0.853445       0.264507              0.922172                  3.1307        \n",
            "\u001b[J2           0.234977    0.93157        0.189933              0.945411                  6.81666       \n",
            "\u001b[J3           0.180527    0.946595       0.166852              0.950257                  10.5014       \n",
            "\u001b[J4           0.146536    0.957031       0.130812              0.960146                  14.2928       \n",
            "\u001b[J5           0.122451    0.964486       0.117694              0.96519                   18.0087       \n",
            "\u001b[J6           0.105051    0.969067       0.104251              0.968948                  21.7247       \n",
            "\u001b[J7           0.0911564   0.973064       0.0972288             0.970332                  25.4107       \n",
            "\u001b[J8           0.0818678   0.975928       0.0968308             0.969937                  29.0969       \n",
            "\u001b[J9           0.0717192   0.978945       0.0859693             0.974189                  32.7722       \n",
            "\u001b[J10          0.0639865   0.981043       0.0843208             0.973299                  36.4693       \n"
          ],
          "name": "stdout"
        }
      ]
    },
    {
      "metadata": {
        "id": "SkVLMX9U1WrN",
        "colab_type": "code",
        "outputId": "1f464b71-9758-4351-c0a8-c54536ae8339",
        "colab": {
          "base_uri": "https://localhost:8080/",
          "height": 361
        }
      },
      "cell_type": "code",
      "source": [
        "# lossの確認\n",
        "from IPython.display import Image\n",
        "Image('/content/gdrive/My Drive/Colab Notebooks/logs/mnist_result/loss.png')"
      ],
      "execution_count": 0,
      "outputs": [
        {
          "output_type": "execute_result",
          "data": {
            "image/png": "[encoded data removed]",
            "text/plain": [
              "<IPython.core.display.Image object>"
            ]
          },
          "metadata": {
            "tags": []
          },
          "execution_count": 28
        }
      ]
    },
    {
      "metadata": {
        "id": "rv7tZDPw1xjB",
        "colab_type": "code",
        "outputId": "77afe67d-b09f-474f-b958-68778d85de00",
        "colab": {
          "base_uri": "https://localhost:8080/",
          "height": 361
        }
      },
      "cell_type": "code",
      "source": [
        "# accuracyの確認\n",
        "Image('/content/gdrive/My Drive/Colab Notebooks/logs/mnist_result/accuracy.png')"
      ],
      "execution_count": 0,
      "outputs": [
        {
          "output_type": "execute_result",
          "data": {
            "image/png": "[encoded data removed]",
            "text/plain": [
              "<IPython.core.display.Image object>"
            ]
          },
          "metadata": {
            "tags": []
          },
          "execution_count": 29
        }
      ]
    },
    {
      "metadata": {
        "id": "_ahQx9Xp111c",
        "colab_type": "code",
        "colab": {}
      },
      "cell_type": "code",
      "source": [
        ""
      ],
      "execution_count": 0,
      "outputs": []
    }
  ]
}